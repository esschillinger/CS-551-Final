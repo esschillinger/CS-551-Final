{
 "cells": [
  {
   "cell_type": "markdown",
   "id": "5db62eed",
   "metadata": {},
   "source": [
    "<h1>Research Question</h1>"
   ]
  },
  {
   "cell_type": "markdown",
   "id": "eda24d98",
   "metadata": {},
   "source": [
    "<b>What factors are most useful for predicting arrests in the City of Chicago?</b>\n",
    "\n",
    "Prior research indicates that the racial/ethnic makeup of the perpetrator plays a significant role in dictating whether or not the individual is arrested for a given crime committed (https://www.vera.org/downloads/publications/for-the-record-unjust-burden-racial-disparities.pdf). However, this dataset does not contain any physical attributes to describe the perpetrator, so we are unable to look into this claim as it pertains to the City of Chicago.\n",
    "\n",
    "According to the National Institute of Justice, areas with higher crime tend to be densely populated, which implies that cities—dense, urban areas—are more likely to have high crime rates than suburban or rural areas (https://nij.ojp.gov/topics/articles/preventing-neighborhood-crime-geography-matters). Thus, we can expect that crime rates are significantly higher closer to the city and decrease as one moves outwards toward the suburbs."
   ]
  },
  {
   "cell_type": "code",
   "execution_count": 48,
   "id": "c8076ab3",
   "metadata": {},
   "outputs": [],
   "source": [
    "import pandas as pd\n",
    "import numpy as np\n",
    "import seaborn as sns\n",
    "import matplotlib.pyplot as plt\n",
    "import warnings\n",
    "import joblib\n",
    "import json\n",
    "from graphviz import Source\n",
    "from sklearn.pipeline import make_pipeline\n",
    "from sklearn.svm import SVC\n",
    "from sklearn.neural_network import MLPClassifier\n",
    "from sklearn.ensemble import RandomForestClassifier\n",
    "from sklearn.linear_model import LogisticRegression\n",
    "from sklearn.model_selection import train_test_split\n",
    "from sklearn.model_selection import learning_curve\n",
    "from matplotlib import pyplot as plt\n",
    "from math import radians, cos, sin, asin, sqrt, isnan\n",
    "from sklearn import tree\n",
    "from sklearn.metrics import accuracy_score\n",
    "from sklearn.metrics import confusion_matrix\n",
    "warnings.filterwarnings('ignore')"
   ]
  },
  {
   "cell_type": "code",
   "execution_count": 2,
   "id": "299822b1",
   "metadata": {},
   "outputs": [],
   "source": [
    "df = pd.read_csv(\"Chicago Crime Dataset.csv\")\n",
    "df = df.sample(frac=0.05, random_state=314)"
   ]
  },
  {
   "cell_type": "markdown",
   "id": "26123008",
   "metadata": {},
   "source": [
    "<h3>Data Acquisition</h3>"
   ]
  },
  {
   "cell_type": "markdown",
   "id": "8f538aa9",
   "metadata": {},
   "source": [
    "The dataset contains a few different metrics for locations, but we can also benefit from calculating the physical distance from the center of the city. This must be calculated using the latitude and longitude values given. The generally-accepted center of the city is (41.8781, -87.6298). We can use the following distance function for latitudes and longitudes and apply it to each row of the dataset using a lambda function:"
   ]
  },
  {
   "cell_type": "code",
   "execution_count": 3,
   "id": "033b87c4",
   "metadata": {},
   "outputs": [],
   "source": [
    "def distance(lat1, lat2, long1, long2):\n",
    "    # Credit: https://www.geeksforgeeks.org/program-distance-two-points-earth/\n",
    "    a = sin((radians(lat2) - radians(lat1)) / 2) ** 2 + cos(radians(lat1)) \\\n",
    "        * cos(radians(lat2)) * sin((radians(long2) - radians(long1)) / 2) ** 2\n",
    "    return asin(sqrt(a)) * 3956 * 2"
   ]
  },
  {
   "cell_type": "code",
   "execution_count": 4,
   "id": "45da7e28",
   "metadata": {},
   "outputs": [],
   "source": [
    "city_lat = 41.8781\n",
    "city_long = -87.6298\n",
    "col = \"Distance to City Center\"\n",
    "df[col] = df.apply(lambda x: distance(x[\"Latitude\"], city_lat, \\\n",
    "                x[\"Longitude\"], city_long) if not (isnan(x[\"Latitude\"] and isnan(x[\"Longitude\"]))) else None, axis=1)"
   ]
  },
  {
   "cell_type": "markdown",
   "id": "9cd77f54",
   "metadata": {},
   "source": [
    "Now we can group crime reports by their distance from the center of the city."
   ]
  },
  {
   "cell_type": "code",
   "execution_count": 5,
   "id": "82a6720e",
   "metadata": {},
   "outputs": [
    {
     "name": "stdout",
     "output_type": "stream",
     "text": [
      "0.003680584700384025 6.687870493809312 422.8168989541127\n"
     ]
    }
   ],
   "source": [
    "distance = df.groupby([col]).count().reset_index()\n",
    "print(df[col].min(), df[col].median(), df[col].max())"
   ]
  },
  {
   "cell_type": "markdown",
   "id": "e78ecc68",
   "metadata": {},
   "source": [
    "<h3>Data Cleaning</h3>"
   ]
  },
  {
   "cell_type": "markdown",
   "id": "172a9fd8",
   "metadata": {},
   "source": [
    "We can see a few basic statistics of the data above. There exists a very clear and present outlier in the data, which oddly appears more than once in the dataset. One of the locations is tagged as being approximately 400 miles away from the center of the city; even though wards and blocks are given for these rows, we cannot be entirely sure of the distance. So, we need to remove any rows that are tagged with this location."
   ]
  },
  {
   "cell_type": "code",
   "execution_count": 6,
   "id": "46273e5b",
   "metadata": {
    "scrolled": false
   },
   "outputs": [],
   "source": [
    "df = df.drop(df.index[df[col] > 50])\n",
    "distance = distance.drop(distance.index[distance[col] > 50])\n",
    "df = df[df[col].notna()]"
   ]
  },
  {
   "cell_type": "code",
   "execution_count": 7,
   "id": "88ca9cb7",
   "metadata": {},
   "outputs": [],
   "source": [
    "drop_columns = ['ID', 'Case Number', 'Block', 'IUCR', 'Description', 'Beat', 'Ward', 'Community Area', 'FBI Code', \\\n",
    "                'X Coordinate', 'Y Coordinate', 'Updated On', 'Latitude', 'Longitude', 'Location', 'Year', 'District']\n",
    "\n",
    "df = df.drop(drop_columns, axis=1)"
   ]
  },
  {
   "cell_type": "markdown",
   "id": "fca80530",
   "metadata": {},
   "source": [
    "We also need to clean the data columns that we will be using that already exist. Some instances of invalid police districts occur, so we need to get rid of those."
   ]
  },
  {
   "cell_type": "code",
   "execution_count": 8,
   "id": "e5632633",
   "metadata": {},
   "outputs": [],
   "source": [
    "# df = df[df['District'].notna()]"
   ]
  },
  {
   "cell_type": "markdown",
   "id": "fe077035",
   "metadata": {},
   "source": [
    "Remove any rows with invalid years. Per the dataset description, the crimes are 2001 - Present, so we should keep columns with numeric values greater than 2000."
   ]
  },
  {
   "cell_type": "code",
   "execution_count": 9,
   "id": "788a7330",
   "metadata": {},
   "outputs": [],
   "source": [
    "# df = df[df['Year'].notna()]\n",
    "# df = df.drop(df.index[df['Year'] < 2001])"
   ]
  },
  {
   "cell_type": "code",
   "execution_count": 10,
   "id": "23de7079",
   "metadata": {},
   "outputs": [],
   "source": [
    "def datetime_to_mins(date):\n",
    "    time = date[-11:]\n",
    "    newtime = 0\n",
    "\n",
    "    if time[-2:] == 'PM' and time[:2] != '12':\n",
    "        newtime += (int(time[:2]) + 12) * 60\n",
    "    else:\n",
    "        newtime += int(time[:2]) * 60\n",
    "\n",
    "    newtime += int(time[3:5])\n",
    "    \n",
    "    return newtime"
   ]
  },
  {
   "cell_type": "code",
   "execution_count": 11,
   "id": "7c6c1502",
   "metadata": {},
   "outputs": [
    {
     "data": {
      "text/html": [
       "<div>\n",
       "<style scoped>\n",
       "    .dataframe tbody tr th:only-of-type {\n",
       "        vertical-align: middle;\n",
       "    }\n",
       "\n",
       "    .dataframe tbody tr th {\n",
       "        vertical-align: top;\n",
       "    }\n",
       "\n",
       "    .dataframe thead th {\n",
       "        text-align: right;\n",
       "    }\n",
       "</style>\n",
       "<table border=\"1\" class=\"dataframe\">\n",
       "  <thead>\n",
       "    <tr style=\"text-align: right;\">\n",
       "      <th></th>\n",
       "      <th>Time of Day</th>\n",
       "      <th>Primary Type</th>\n",
       "      <th>Location Description</th>\n",
       "      <th>Arrest</th>\n",
       "      <th>Domestic</th>\n",
       "      <th>Distance to City Center</th>\n",
       "    </tr>\n",
       "  </thead>\n",
       "  <tbody>\n",
       "    <tr>\n",
       "      <th>560001</th>\n",
       "      <td>320</td>\n",
       "      <td>BATTERY</td>\n",
       "      <td>PARKING LOT/GARAGE(NON.RESID.)</td>\n",
       "      <td>False</td>\n",
       "      <td>False</td>\n",
       "      <td>11.057529</td>\n",
       "    </tr>\n",
       "    <tr>\n",
       "      <th>7048133</th>\n",
       "      <td>1245</td>\n",
       "      <td>THEFT</td>\n",
       "      <td>STREET</td>\n",
       "      <td>True</td>\n",
       "      <td>False</td>\n",
       "      <td>4.199559</td>\n",
       "    </tr>\n",
       "    <tr>\n",
       "      <th>131692</th>\n",
       "      <td>300</td>\n",
       "      <td>THEFT</td>\n",
       "      <td>SIDEWALK</td>\n",
       "      <td>False</td>\n",
       "      <td>False</td>\n",
       "      <td>4.203769</td>\n",
       "    </tr>\n",
       "    <tr>\n",
       "      <th>5271491</th>\n",
       "      <td>640</td>\n",
       "      <td>BATTERY</td>\n",
       "      <td>APARTMENT</td>\n",
       "      <td>False</td>\n",
       "      <td>True</td>\n",
       "      <td>8.096862</td>\n",
       "    </tr>\n",
       "    <tr>\n",
       "      <th>4711838</th>\n",
       "      <td>765</td>\n",
       "      <td>OTHER OFFENSE</td>\n",
       "      <td>STREET</td>\n",
       "      <td>True</td>\n",
       "      <td>False</td>\n",
       "      <td>5.821145</td>\n",
       "    </tr>\n",
       "  </tbody>\n",
       "</table>\n",
       "</div>"
      ],
      "text/plain": [
       "        Time of Day   Primary Type            Location Description  Arrest  \\\n",
       "560001          320        BATTERY  PARKING LOT/GARAGE(NON.RESID.)   False   \n",
       "7048133        1245          THEFT                          STREET    True   \n",
       "131692          300          THEFT                        SIDEWALK   False   \n",
       "5271491         640        BATTERY                       APARTMENT   False   \n",
       "4711838         765  OTHER OFFENSE                          STREET    True   \n",
       "\n",
       "         Domestic  Distance to City Center  \n",
       "560001      False                11.057529  \n",
       "7048133     False                 4.199559  \n",
       "131692      False                 4.203769  \n",
       "5271491      True                 8.096862  \n",
       "4711838     False                 5.821145  "
      ]
     },
     "execution_count": 11,
     "metadata": {},
     "output_type": "execute_result"
    }
   ],
   "source": [
    "for i, row in df.iterrows():\n",
    "    df.at[i, 'Date'] = datetime_to_mins(df.at[i, 'Date'])\n",
    "\n",
    "df.rename(columns={'Date' : 'Time of Day'}, inplace=True)\n",
    "df.head()"
   ]
  },
  {
   "cell_type": "markdown",
   "id": "b30fca7f",
   "metadata": {},
   "source": [
    "Finally, we need to get rid of any rows that don't have a location description listed, as we will use this field to help train our model."
   ]
  },
  {
   "cell_type": "code",
   "execution_count": 12,
   "id": "48344a72",
   "metadata": {},
   "outputs": [],
   "source": [
    "df = df[df['Location Description'].notna()]"
   ]
  },
  {
   "cell_type": "markdown",
   "id": "ed000e5b",
   "metadata": {},
   "source": [
    "<h3>Feature Engineering</h3>"
   ]
  },
  {
   "cell_type": "markdown",
   "id": "17dcbd94",
   "metadata": {},
   "source": [
    "Since most of our data is categorical, we first need a way to encode it. Take the IUCR codes, for example. While represented by numbers, this is not numeric data; it is not ordered such that codes with higher numeric values are more violent crimes. The codes themselves are categorical, which is apparent when considering the fact that the primary types can span several codes.\n",
    "\n",
    "The most intuitive encoding we can use is one-hot, in which we create new columns in the dataset to represent the span of the categorical attribute. These essentially make up a binary vector, in which the categorical value for any given row holds a 1 in that corresponding column, and 0s in the rest."
   ]
  },
  {
   "cell_type": "markdown",
   "id": "cdae1bdb",
   "metadata": {},
   "source": [
    "First, the encoding for the Primary Type:"
   ]
  },
  {
   "cell_type": "code",
   "execution_count": 13,
   "id": "05df1efc",
   "metadata": {},
   "outputs": [],
   "source": [
    "def one_hot(df, fields, category):\n",
    "    cols = []\n",
    "    \n",
    "    for field in fields:\n",
    "        temp = []\n",
    "\n",
    "        for value in df[category]:\n",
    "            if value == field:\n",
    "                temp.append(1)\n",
    "            else:\n",
    "                temp.append(0)\n",
    "\n",
    "        # df[field] = temp\n",
    "        cols.append(temp)\n",
    "    \n",
    "    data_dict = {}\n",
    "    \n",
    "    for i, key in enumerate(fields):\n",
    "        data_dict[key] = cols[i]\n",
    "    \n",
    "    return pd.concat((df.reset_index(drop=True), pd.DataFrame(data=data_dict).reset_index(drop=True)), axis=1)"
   ]
  },
  {
   "cell_type": "code",
   "execution_count": 14,
   "id": "2fe89df7",
   "metadata": {},
   "outputs": [
    {
     "name": "stdout",
     "output_type": "stream",
     "text": [
      "{'BATTERY': 1, 'THEFT': 1, 'OTHER OFFENSE': 1, 'NARCOTICS': 1, 'BURGLARY': 1, 'SEX OFFENSE': 1, 'CRIMINAL TRESPASS': 1, 'CRIM SEXUAL ASSAULT': 1, 'WEAPONS VIOLATION': 1, 'ROBBERY': 1, 'DECEPTIVE PRACTICE': 1, 'ASSAULT': 1, 'CRIMINAL DAMAGE': 1, 'OFFENSE INVOLVING CHILDREN': 1, 'MOTOR VEHICLE THEFT': 1, 'PUBLIC PEACE VIOLATION': 1, 'CONCEALED CARRY LICENSE VIOLATION': 1, 'PROSTITUTION': 1, 'HOMICIDE': 1, 'GAMBLING': 1, 'KIDNAPPING': 1, 'LIQUOR LAW VIOLATION': 1, 'INTERFERENCE WITH PUBLIC OFFICER': 1, 'STALKING': 1, 'INTIMIDATION': 1, 'ARSON': 1, 'CRIMINAL SEXUAL ASSAULT': 1, 'NON-CRIMINAL': 1, 'OTHER NARCOTIC VIOLATION': 1, 'OBSCENITY': 1, 'RITUALISM': 1, 'NON - CRIMINAL': 1, 'PUBLIC INDECENCY': 1, 'HUMAN TRAFFICKING': 1} 34\n"
     ]
    }
   ],
   "source": [
    "types = {}\n",
    "\n",
    "for value in df['Primary Type']:\n",
    "    #if value not in types:\n",
    "     types[value] = 1\n",
    "        \n",
    "print(types, len(types))"
   ]
  },
  {
   "cell_type": "code",
   "execution_count": 15,
   "id": "bf46b531",
   "metadata": {},
   "outputs": [],
   "source": [
    "df = one_hot(df, types, 'Primary Type')"
   ]
  },
  {
   "cell_type": "markdown",
   "id": "47936c10",
   "metadata": {},
   "source": [
    "We can check that the Primary Type (IUCR Description) has been encoded:"
   ]
  },
  {
   "cell_type": "code",
   "execution_count": 16,
   "id": "b2118b7d",
   "metadata": {},
   "outputs": [
    {
     "data": {
      "text/html": [
       "<div>\n",
       "<style scoped>\n",
       "    .dataframe tbody tr th:only-of-type {\n",
       "        vertical-align: middle;\n",
       "    }\n",
       "\n",
       "    .dataframe tbody tr th {\n",
       "        vertical-align: top;\n",
       "    }\n",
       "\n",
       "    .dataframe thead th {\n",
       "        text-align: right;\n",
       "    }\n",
       "</style>\n",
       "<table border=\"1\" class=\"dataframe\">\n",
       "  <thead>\n",
       "    <tr style=\"text-align: right;\">\n",
       "      <th></th>\n",
       "      <th>Time of Day</th>\n",
       "      <th>Primary Type</th>\n",
       "      <th>Location Description</th>\n",
       "      <th>Arrest</th>\n",
       "      <th>Domestic</th>\n",
       "      <th>Distance to City Center</th>\n",
       "      <th>BATTERY</th>\n",
       "      <th>THEFT</th>\n",
       "      <th>OTHER OFFENSE</th>\n",
       "      <th>NARCOTICS</th>\n",
       "      <th>...</th>\n",
       "      <th>INTIMIDATION</th>\n",
       "      <th>ARSON</th>\n",
       "      <th>CRIMINAL SEXUAL ASSAULT</th>\n",
       "      <th>NON-CRIMINAL</th>\n",
       "      <th>OTHER NARCOTIC VIOLATION</th>\n",
       "      <th>OBSCENITY</th>\n",
       "      <th>RITUALISM</th>\n",
       "      <th>NON - CRIMINAL</th>\n",
       "      <th>PUBLIC INDECENCY</th>\n",
       "      <th>HUMAN TRAFFICKING</th>\n",
       "    </tr>\n",
       "  </thead>\n",
       "  <tbody>\n",
       "    <tr>\n",
       "      <th>0</th>\n",
       "      <td>320</td>\n",
       "      <td>BATTERY</td>\n",
       "      <td>PARKING LOT/GARAGE(NON.RESID.)</td>\n",
       "      <td>False</td>\n",
       "      <td>False</td>\n",
       "      <td>11.057529</td>\n",
       "      <td>1</td>\n",
       "      <td>0</td>\n",
       "      <td>0</td>\n",
       "      <td>0</td>\n",
       "      <td>...</td>\n",
       "      <td>0</td>\n",
       "      <td>0</td>\n",
       "      <td>0</td>\n",
       "      <td>0</td>\n",
       "      <td>0</td>\n",
       "      <td>0</td>\n",
       "      <td>0</td>\n",
       "      <td>0</td>\n",
       "      <td>0</td>\n",
       "      <td>0</td>\n",
       "    </tr>\n",
       "    <tr>\n",
       "      <th>1</th>\n",
       "      <td>1245</td>\n",
       "      <td>THEFT</td>\n",
       "      <td>STREET</td>\n",
       "      <td>True</td>\n",
       "      <td>False</td>\n",
       "      <td>4.199559</td>\n",
       "      <td>0</td>\n",
       "      <td>1</td>\n",
       "      <td>0</td>\n",
       "      <td>0</td>\n",
       "      <td>...</td>\n",
       "      <td>0</td>\n",
       "      <td>0</td>\n",
       "      <td>0</td>\n",
       "      <td>0</td>\n",
       "      <td>0</td>\n",
       "      <td>0</td>\n",
       "      <td>0</td>\n",
       "      <td>0</td>\n",
       "      <td>0</td>\n",
       "      <td>0</td>\n",
       "    </tr>\n",
       "    <tr>\n",
       "      <th>2</th>\n",
       "      <td>300</td>\n",
       "      <td>THEFT</td>\n",
       "      <td>SIDEWALK</td>\n",
       "      <td>False</td>\n",
       "      <td>False</td>\n",
       "      <td>4.203769</td>\n",
       "      <td>0</td>\n",
       "      <td>1</td>\n",
       "      <td>0</td>\n",
       "      <td>0</td>\n",
       "      <td>...</td>\n",
       "      <td>0</td>\n",
       "      <td>0</td>\n",
       "      <td>0</td>\n",
       "      <td>0</td>\n",
       "      <td>0</td>\n",
       "      <td>0</td>\n",
       "      <td>0</td>\n",
       "      <td>0</td>\n",
       "      <td>0</td>\n",
       "      <td>0</td>\n",
       "    </tr>\n",
       "    <tr>\n",
       "      <th>3</th>\n",
       "      <td>640</td>\n",
       "      <td>BATTERY</td>\n",
       "      <td>APARTMENT</td>\n",
       "      <td>False</td>\n",
       "      <td>True</td>\n",
       "      <td>8.096862</td>\n",
       "      <td>1</td>\n",
       "      <td>0</td>\n",
       "      <td>0</td>\n",
       "      <td>0</td>\n",
       "      <td>...</td>\n",
       "      <td>0</td>\n",
       "      <td>0</td>\n",
       "      <td>0</td>\n",
       "      <td>0</td>\n",
       "      <td>0</td>\n",
       "      <td>0</td>\n",
       "      <td>0</td>\n",
       "      <td>0</td>\n",
       "      <td>0</td>\n",
       "      <td>0</td>\n",
       "    </tr>\n",
       "    <tr>\n",
       "      <th>4</th>\n",
       "      <td>765</td>\n",
       "      <td>OTHER OFFENSE</td>\n",
       "      <td>STREET</td>\n",
       "      <td>True</td>\n",
       "      <td>False</td>\n",
       "      <td>5.821145</td>\n",
       "      <td>0</td>\n",
       "      <td>0</td>\n",
       "      <td>1</td>\n",
       "      <td>0</td>\n",
       "      <td>...</td>\n",
       "      <td>0</td>\n",
       "      <td>0</td>\n",
       "      <td>0</td>\n",
       "      <td>0</td>\n",
       "      <td>0</td>\n",
       "      <td>0</td>\n",
       "      <td>0</td>\n",
       "      <td>0</td>\n",
       "      <td>0</td>\n",
       "      <td>0</td>\n",
       "    </tr>\n",
       "  </tbody>\n",
       "</table>\n",
       "<p>5 rows × 40 columns</p>\n",
       "</div>"
      ],
      "text/plain": [
       "  Time of Day   Primary Type            Location Description  Arrest  \\\n",
       "0         320        BATTERY  PARKING LOT/GARAGE(NON.RESID.)   False   \n",
       "1        1245          THEFT                          STREET    True   \n",
       "2         300          THEFT                        SIDEWALK   False   \n",
       "3         640        BATTERY                       APARTMENT   False   \n",
       "4         765  OTHER OFFENSE                          STREET    True   \n",
       "\n",
       "   Domestic  Distance to City Center  BATTERY  THEFT  OTHER OFFENSE  \\\n",
       "0     False                11.057529        1      0              0   \n",
       "1     False                 4.199559        0      1              0   \n",
       "2     False                 4.203769        0      1              0   \n",
       "3      True                 8.096862        1      0              0   \n",
       "4     False                 5.821145        0      0              1   \n",
       "\n",
       "   NARCOTICS  ...  INTIMIDATION  ARSON  CRIMINAL SEXUAL ASSAULT  NON-CRIMINAL  \\\n",
       "0          0  ...             0      0                        0             0   \n",
       "1          0  ...             0      0                        0             0   \n",
       "2          0  ...             0      0                        0             0   \n",
       "3          0  ...             0      0                        0             0   \n",
       "4          0  ...             0      0                        0             0   \n",
       "\n",
       "   OTHER NARCOTIC VIOLATION  OBSCENITY  RITUALISM  NON - CRIMINAL  \\\n",
       "0                         0          0          0               0   \n",
       "1                         0          0          0               0   \n",
       "2                         0          0          0               0   \n",
       "3                         0          0          0               0   \n",
       "4                         0          0          0               0   \n",
       "\n",
       "   PUBLIC INDECENCY  HUMAN TRAFFICKING  \n",
       "0                 0                  0  \n",
       "1                 0                  0  \n",
       "2                 0                  0  \n",
       "3                 0                  0  \n",
       "4                 0                  0  \n",
       "\n",
       "[5 rows x 40 columns]"
      ]
     },
     "execution_count": 16,
     "metadata": {},
     "output_type": "execute_result"
    }
   ],
   "source": [
    "for i in range(5):\n",
    "    if df.at[i, df.at[i, 'Primary Type']] != 1:\n",
    "        print(\"Encoding unsuccessful\")\n",
    "df.head()"
   ]
  },
  {
   "cell_type": "markdown",
   "id": "1abb4b13",
   "metadata": {},
   "source": [
    "Now we need to encode the Police District field. We can use the same technique from before to retrieve all of the districts that appear in the dataset and create encodings for them."
   ]
  },
  {
   "cell_type": "code",
   "execution_count": 17,
   "id": "1ba64cf0",
   "metadata": {},
   "outputs": [],
   "source": [
    "# districts = {}\n",
    "\n",
    "# for value in df['District']:\n",
    "#     if not isnan(value):\n",
    "#         districts['District ' + str(int(value))] = 1\n",
    "        \n",
    "# print(districts, len(districts))"
   ]
  },
  {
   "cell_type": "code",
   "execution_count": 18,
   "id": "2fa32b5e",
   "metadata": {},
   "outputs": [],
   "source": [
    "# df = one_hot(df, districts, 'District')"
   ]
  },
  {
   "cell_type": "markdown",
   "id": "c3e8deed",
   "metadata": {},
   "source": [
    "Finally, we're onto the last encoding: location description. Let's check out what descriptions we have:"
   ]
  },
  {
   "cell_type": "code",
   "execution_count": 19,
   "id": "afa35b84",
   "metadata": {
    "scrolled": true
   },
   "outputs": [
    {
     "name": "stdout",
     "output_type": "stream",
     "text": [
      "{'PARKING LOT/GARAGE(NON.RESID.)': 10138, 'STREET': 99115, 'SIDEWALK': 36155, 'APARTMENT': 42459, 'RESIDENCE': 63291, 'BAR OR TAVERN': 2058, 'SCHOOL, PRIVATE, BUILDING': 651, 'CONVENIENCE STORE': 1129, 'OTHER': 13275, 'DEPARTMENT STORE': 4730, 'RESIDENTIAL YARD (FRONT/BACK)': 3743, 'GAS STATION': 4320, 'RESIDENCE-GARAGE': 6721, 'SCHOOL, PUBLIC, BUILDING': 7178, 'CTA GARAGE / OTHER PROPERTY': 501, 'CHA PARKING LOT/GROUNDS': 2796, 'RESIDENCE PORCH/HALLWAY': 6173, 'SMALL RETAIL STORE': 7208, 'WAREHOUSE': 528, 'CHA APARTMENT': 1906, 'VEHICLE NON-COMMERCIAL': 5979, 'ALLEY': 8570, 'RESTAURANT': 6243, 'CTA BUS': 1193, 'AIRPORT/AIRCRAFT': 787, 'HOTEL/MOTEL': 1467, 'CTA STATION': 325, 'CTA PLATFORM': 1976, 'VACANT LOT / LAND': 86, 'COLLEGE/UNIVERSITY GROUNDS': 307, 'VACANT LOT/LAND': 1256, 'BARBERSHOP': 414, 'CHA HALLWAY/STAIRWELL/ELEVATOR': 1220, 'GOVERNMENT BUILDING/PROPERTY': 699, 'HOSPITAL BUILDING/GROUNDS': 1110, 'BANK': 1489, 'AIRPORT TERMINAL LOWER LEVEL - NON-SECURE AREA': 117, 'CTA TRAIN': 1434, 'GROCERY FOOD STORE': 4829, 'CONSTRUCTION SITE': 662, 'PARK PROPERTY': 2954, 'LIBRARY': 336, 'SCHOOL, PRIVATE, GROUNDS': 216, 'OTHER (SPECIFY)': 555, 'POLICE FACILITY/VEH PARKING LOT': 903, 'SCHOOL, PUBLIC, GROUNDS': 1521, 'DRUG STORE': 1702, 'TAVERN/LIQUOR STORE': 1117, 'ABANDONED BUILDING': 555, 'AIRPORT VENDING ESTABLISHMENT': 45, 'NURSING HOME/RETIREMENT HOME': 742, 'VEHICLE-COMMERCIAL': 316, 'PARKING LOT / GARAGE (NON RESIDENTIAL)': 942, 'ATM (AUTOMATIC TELLER MACHINE)': 377, 'COMMERCIAL / BUSINESS OFFICE': 2872, 'FACTORY / MANUFACTURING BUILDING': 21, 'MEDICAL/DENTAL OFFICE': 370, 'DAY CARE CENTER': 170, 'HOSPITAL BUILDING / GROUNDS': 148, 'YARD': 11, 'FIRE STATION': 57, 'CAR WASH': 157, 'CHURCH/SYNAGOGUE/PLACE OF WORSHIP': 801, 'ATHLETIC CLUB': 472, 'OTHER RAILROAD PROP / TRAIN DEPOT': 291, 'TAVERN / LIQUOR STORE': 53, 'POLICE FACILITY / VEHICLE PARKING LOT': 87, 'CURRENCY EXCHANGE': 554, 'RESIDENCE - GARAGE': 343, 'DRIVEWAY - RESIDENTIAL': 1100, 'RESIDENCE - YARD (FRONT / BACK)': 406, 'TAXICAB': 390, 'AIRPORT BUILDING NON-TERMINAL - NON-SECURE AREA': 53, 'RESIDENCE - PORCH / HALLWAY': 455, 'BOWLING ALLEY': 38, 'OTHER COMMERCIAL TRANSPORTATION': 142, 'AIRPORT TERMINAL UPPER LEVEL - SECURE AREA': 237, 'SPORTS ARENA/STADIUM': 260, 'CEMETARY': 23, 'AUTO': 65, 'AUTO / BOAT / RV DEALERSHIP': 67, 'SCHOOL - PUBLIC BUILDING': 149, 'CLEANING STORE': 234, 'MOVIE HOUSE/THEATER': 118, 'FACTORY/MANUFACTURING BUILDING': 348, 'FEDERAL BUILDING': 43, 'AIRPORT TERMINAL LOWER LEVEL - SECURE AREA': 51, 'PAWN SHOP': 32, 'APPLIANCE STORE': 115, 'HOTEL / MOTEL': 175, 'AIRPORT BUILDING NON-TERMINAL - SECURE AREA': 39, 'GOVERNMENT BUILDING / PROPERTY': 48, 'HOUSE': 29, 'CTA BUS STOP': 362, 'PORCH': 16, 'SAVINGS AND LOAN': 27, 'COLLEGE/UNIVERSITY RESIDENCE HALL': 82, 'DELIVERY TRUCK': 45, 'VEHICLE - COMMERCIAL': 23, 'VEHICLE - OTHER RIDE SHARE SERVICE (E.G., UBER, LYFT)': 31, 'AIRPORT TERMINAL UPPER LEVEL - NON-SECURE AREA': 46, 'OTHER RAILROAD PROPERTY / TRAIN DEPOT': 12, 'COIN OPERATED MACHINE': 64, 'CHURCH / SYNAGOGUE / PLACE OF WORSHIP': 55, 'VEHICLE - OTHER RIDE SERVICE': 24, 'AIRPORT PARKING LOT': 55, 'NURSING / RETIREMENT HOME': 107, 'HIGHWAY/EXPRESSWAY': 63, 'GAS STATION DRIVE/PROP.': 4, 'CHA PARKING LOT / GROUNDS': 55, 'SCHOOL - PRIVATE BUILDING': 19, 'SCHOOL - PUBLIC GROUNDS': 114, 'JAIL / LOCK-UP FACILITY': 57, 'AIRPORT EXTERIOR - NON-SECURE AREA': 61, 'CREDIT UNION': 25, 'COLLEGE / UNIVERSITY - GROUNDS': 5, 'AIRCRAFT': 39, 'GANGWAY': 3, 'AIRPORT TERMINAL MEZZANINE - NON-SECURE AREA': 9, 'SPORTS ARENA / STADIUM': 15, 'FOREST PRESERVE': 23, 'MEDICAL / DENTAL OFFICE': 38, 'BOAT / WATERCRAFT': 4, 'BOAT/WATERCRAFT': 26, 'POOL ROOM': 58, 'LAKEFRONT/WATERFRONT/RIVERBANK': 48, 'CTA TRACKS - RIGHT OF WAY': 11, 'VEHICLE - OTHER RIDE SHARE SERVICE (LYFT, UBER, ETC.)': 13, 'CTA PARKING LOT / GARAGE / OTHER PROPERTY': 20, 'BRIDGE': 18, 'HIGHWAY / EXPRESSWAY': 10, 'ANIMAL HOSPITAL': 45, 'SCHOOL - PRIVATE GROUNDS': 23, 'BANQUET HALL': 2, 'RETAIL STORE': 6, 'NEWSSTAND': 9, 'VEHICLE - DELIVERY TRUCK': 12, 'LAKEFRONT / WATERFRONT / RIVERBANK': 10, 'AIRPORT EXTERIOR - SECURE AREA': 21, 'VEHICLE - COMMERCIAL: TROLLEY BUS': 1, 'CTA PROPERTY': 1, 'VEHICLE-COMMERCIAL - TROLLEY BUS': 2, 'AIRPORT TRANSPORTATION SYSTEM (ATS)': 8, 'GARAGE': 6, 'VACANT LOT': 6, 'CHA HALLWAY / STAIRWELL / ELEVATOR': 23, 'VESTIBULE': 1, 'MOVIE HOUSE / THEATER': 9, 'STAIRWELL': 2, 'RAILROAD PROPERTY': 1, 'CHA GROUNDS': 2, 'WOODED AREA': 1, 'PARKING LOT': 7, 'DUMPSTER': 1, 'CHA PARKING LOT': 1, 'HOSPITAL': 1, 'BASEMENT': 2, 'HALLWAY': 4, 'CHA HALLWAY': 2, 'TRUCK': 1, 'DRIVEWAY': 1, 'COLLEGE / UNIVERSITY - RESIDENCE HALL': 1, 'HOTEL': 1} 163\n"
     ]
    }
   ],
   "source": [
    "descriptions = {}\n",
    "\n",
    "for value in df['Location Description']:\n",
    "    if value in descriptions:\n",
    "        descriptions[value] += 1\n",
    "    else:\n",
    "        descriptions[value] = 1\n",
    "        \n",
    "print(descriptions, len(descriptions))"
   ]
  },
  {
   "cell_type": "markdown",
   "id": "ef2a96c2",
   "metadata": {},
   "source": [
    "We have a ton of descriptions here (215 in the full dataset, to be exact), which may be a little much for our model to handle. As such, we will only consider locations that make up at least 1000 of our instances in the dataset (50 in our sample size). Anything that makes up less instances is likely a \"one-off\" location description and wouldn't make sense to include.\n",
    "\n",
    "For example, 'Trucking Terminal' occurs in 1 row out of the 7.68M; common sense tells us that 'Trucking Terminal' is unnaturally specific and not relevant/applicable to crime arrests in general if it only happens once in a major city over a 20 year period."
   ]
  },
  {
   "cell_type": "code",
   "execution_count": 20,
   "id": "c01a488e",
   "metadata": {
    "scrolled": true
   },
   "outputs": [
    {
     "name": "stdout",
     "output_type": "stream",
     "text": [
      "{'PARKING LOT/GARAGE(NON.RESID.)': 10138, 'STREET': 99115, 'SIDEWALK': 36155, 'APARTMENT': 42459, 'RESIDENCE': 63291, 'BAR OR TAVERN': 2058, 'SCHOOL, PRIVATE, BUILDING': 651, 'CONVENIENCE STORE': 1129, 'OTHER': 13275, 'DEPARTMENT STORE': 4730, 'RESIDENTIAL YARD (FRONT/BACK)': 3743, 'GAS STATION': 4320, 'RESIDENCE-GARAGE': 6721, 'SCHOOL, PUBLIC, BUILDING': 7178, 'CTA GARAGE / OTHER PROPERTY': 501, 'CHA PARKING LOT/GROUNDS': 2796, 'RESIDENCE PORCH/HALLWAY': 6173, 'SMALL RETAIL STORE': 7208, 'WAREHOUSE': 528, 'CHA APARTMENT': 1906, 'VEHICLE NON-COMMERCIAL': 5979, 'ALLEY': 8570, 'RESTAURANT': 6243, 'CTA BUS': 1193, 'AIRPORT/AIRCRAFT': 787, 'HOTEL/MOTEL': 1467, 'CTA STATION': 325, 'CTA PLATFORM': 1976, 'VACANT LOT / LAND': 86, 'COLLEGE/UNIVERSITY GROUNDS': 307, 'VACANT LOT/LAND': 1256, 'BARBERSHOP': 414, 'CHA HALLWAY/STAIRWELL/ELEVATOR': 1220, 'GOVERNMENT BUILDING/PROPERTY': 699, 'HOSPITAL BUILDING/GROUNDS': 1110, 'BANK': 1489, 'AIRPORT TERMINAL LOWER LEVEL - NON-SECURE AREA': 117, 'CTA TRAIN': 1434, 'GROCERY FOOD STORE': 4829, 'CONSTRUCTION SITE': 662, 'PARK PROPERTY': 2954, 'LIBRARY': 336, 'SCHOOL, PRIVATE, GROUNDS': 216, 'OTHER (SPECIFY)': 555, 'POLICE FACILITY/VEH PARKING LOT': 903, 'SCHOOL, PUBLIC, GROUNDS': 1521, 'DRUG STORE': 1702, 'TAVERN/LIQUOR STORE': 1117, 'ABANDONED BUILDING': 555, 'NURSING HOME/RETIREMENT HOME': 742, 'VEHICLE-COMMERCIAL': 316, 'PARKING LOT / GARAGE (NON RESIDENTIAL)': 942, 'ATM (AUTOMATIC TELLER MACHINE)': 377, 'COMMERCIAL / BUSINESS OFFICE': 2872, 'MEDICAL/DENTAL OFFICE': 370, 'DAY CARE CENTER': 170, 'HOSPITAL BUILDING / GROUNDS': 148, 'FIRE STATION': 57, 'CAR WASH': 157, 'CHURCH/SYNAGOGUE/PLACE OF WORSHIP': 801, 'ATHLETIC CLUB': 472, 'OTHER RAILROAD PROP / TRAIN DEPOT': 291, 'TAVERN / LIQUOR STORE': 53, 'POLICE FACILITY / VEHICLE PARKING LOT': 87, 'CURRENCY EXCHANGE': 554, 'RESIDENCE - GARAGE': 343, 'DRIVEWAY - RESIDENTIAL': 1100, 'RESIDENCE - YARD (FRONT / BACK)': 406, 'TAXICAB': 390, 'AIRPORT BUILDING NON-TERMINAL - NON-SECURE AREA': 53, 'RESIDENCE - PORCH / HALLWAY': 455, 'OTHER COMMERCIAL TRANSPORTATION': 142, 'AIRPORT TERMINAL UPPER LEVEL - SECURE AREA': 237, 'SPORTS ARENA/STADIUM': 260, 'AUTO': 65, 'AUTO / BOAT / RV DEALERSHIP': 67, 'SCHOOL - PUBLIC BUILDING': 149, 'CLEANING STORE': 234, 'MOVIE HOUSE/THEATER': 118, 'FACTORY/MANUFACTURING BUILDING': 348, 'AIRPORT TERMINAL LOWER LEVEL - SECURE AREA': 51, 'APPLIANCE STORE': 115, 'HOTEL / MOTEL': 175, 'CTA BUS STOP': 362, 'COLLEGE/UNIVERSITY RESIDENCE HALL': 82, 'COIN OPERATED MACHINE': 64, 'CHURCH / SYNAGOGUE / PLACE OF WORSHIP': 55, 'AIRPORT PARKING LOT': 55, 'NURSING / RETIREMENT HOME': 107, 'HIGHWAY/EXPRESSWAY': 63, 'CHA PARKING LOT / GROUNDS': 55, 'SCHOOL - PUBLIC GROUNDS': 114, 'JAIL / LOCK-UP FACILITY': 57, 'AIRPORT EXTERIOR - NON-SECURE AREA': 61, 'POOL ROOM': 58} 95\n"
     ]
    }
   ],
   "source": [
    "temp_dict = {}\n",
    "\n",
    "for key in descriptions:\n",
    "    if descriptions[key] > 50:\n",
    "        temp_dict[key] = descriptions[key]\n",
    "\n",
    "descriptions = temp_dict\n",
    "print (descriptions, len(descriptions))"
   ]
  },
  {
   "cell_type": "code",
   "execution_count": 21,
   "id": "9853086a",
   "metadata": {},
   "outputs": [],
   "source": [
    "df = df[df['Location Description'].isin(descriptions)]"
   ]
  },
  {
   "cell_type": "code",
   "execution_count": 22,
   "id": "64a51df4",
   "metadata": {},
   "outputs": [],
   "source": [
    "df = one_hot(df, descriptions, 'Location Description')"
   ]
  },
  {
   "cell_type": "markdown",
   "id": "a516cf0e",
   "metadata": {},
   "source": [
    "The encodings are all done, but we do need to convert all 'true' and 'false' values in the Arrest and Domestic categories to 1s and 0s."
   ]
  },
  {
   "cell_type": "code",
   "execution_count": 23,
   "id": "dd8c9a7b",
   "metadata": {},
   "outputs": [],
   "source": [
    "for i, row in df.iterrows():\n",
    "    df.at[i, 'Arrest'] = int(df.at[i, 'Arrest'])\n",
    "    df.at[i, 'Domestic'] = int(df.at[i, 'Domestic'])"
   ]
  },
  {
   "cell_type": "markdown",
   "id": "eeaa06ce",
   "metadata": {},
   "source": [
    "<h3>Model Development/Training</h3>"
   ]
  },
  {
   "cell_type": "code",
   "execution_count": 24,
   "id": "3aff7de7",
   "metadata": {},
   "outputs": [],
   "source": [
    "# compression_opts = dict(method='zip', archive_name='Clean Dataset.csv')\n",
    "# df.to_csv('Clean Dataset.zip', index=False, compression=compression_opts)"
   ]
  },
  {
   "cell_type": "code",
   "execution_count": 25,
   "id": "9963e3f8",
   "metadata": {},
   "outputs": [],
   "source": [
    "# df = pd.read_csv(\"Clean Dataset.csv\")"
   ]
  },
  {
   "cell_type": "markdown",
   "id": "fa433923",
   "metadata": {},
   "source": [
    "We can make a quick plot to see the correlation between each feature we plan on including and the response variable to see how much each feature is likely to impact the overall result we're trying to predict."
   ]
  },
  {
   "cell_type": "code",
   "execution_count": 26,
   "id": "5e853123",
   "metadata": {
    "scrolled": true
   },
   "outputs": [
    {
     "data": {
      "text/html": [
       "<div>\n",
       "<style scoped>\n",
       "    .dataframe tbody tr th:only-of-type {\n",
       "        vertical-align: middle;\n",
       "    }\n",
       "\n",
       "    .dataframe tbody tr th {\n",
       "        vertical-align: top;\n",
       "    }\n",
       "\n",
       "    .dataframe thead th {\n",
       "        text-align: right;\n",
       "    }\n",
       "</style>\n",
       "<table border=\"1\" class=\"dataframe\">\n",
       "  <thead>\n",
       "    <tr style=\"text-align: right;\">\n",
       "      <th></th>\n",
       "      <th>Time of Day</th>\n",
       "      <th>Arrest</th>\n",
       "      <th>Domestic</th>\n",
       "      <th>Distance to City Center</th>\n",
       "      <th>BATTERY</th>\n",
       "      <th>THEFT</th>\n",
       "      <th>OTHER OFFENSE</th>\n",
       "      <th>NARCOTICS</th>\n",
       "      <th>BURGLARY</th>\n",
       "      <th>SEX OFFENSE</th>\n",
       "      <th>...</th>\n",
       "      <th>COIN OPERATED MACHINE</th>\n",
       "      <th>CHURCH / SYNAGOGUE / PLACE OF WORSHIP</th>\n",
       "      <th>AIRPORT PARKING LOT</th>\n",
       "      <th>NURSING / RETIREMENT HOME</th>\n",
       "      <th>HIGHWAY/EXPRESSWAY</th>\n",
       "      <th>CHA PARKING LOT / GROUNDS</th>\n",
       "      <th>SCHOOL - PUBLIC GROUNDS</th>\n",
       "      <th>JAIL / LOCK-UP FACILITY</th>\n",
       "      <th>AIRPORT EXTERIOR - NON-SECURE AREA</th>\n",
       "      <th>POOL ROOM</th>\n",
       "    </tr>\n",
       "  </thead>\n",
       "  <tbody>\n",
       "    <tr>\n",
       "      <th>0</th>\n",
       "      <td>320</td>\n",
       "      <td>0</td>\n",
       "      <td>0</td>\n",
       "      <td>11.057529</td>\n",
       "      <td>1</td>\n",
       "      <td>0</td>\n",
       "      <td>0</td>\n",
       "      <td>0</td>\n",
       "      <td>0</td>\n",
       "      <td>0</td>\n",
       "      <td>...</td>\n",
       "      <td>0</td>\n",
       "      <td>0</td>\n",
       "      <td>0</td>\n",
       "      <td>0</td>\n",
       "      <td>0</td>\n",
       "      <td>0</td>\n",
       "      <td>0</td>\n",
       "      <td>0</td>\n",
       "      <td>0</td>\n",
       "      <td>0</td>\n",
       "    </tr>\n",
       "    <tr>\n",
       "      <th>1</th>\n",
       "      <td>1245</td>\n",
       "      <td>1</td>\n",
       "      <td>0</td>\n",
       "      <td>4.199559</td>\n",
       "      <td>0</td>\n",
       "      <td>1</td>\n",
       "      <td>0</td>\n",
       "      <td>0</td>\n",
       "      <td>0</td>\n",
       "      <td>0</td>\n",
       "      <td>...</td>\n",
       "      <td>0</td>\n",
       "      <td>0</td>\n",
       "      <td>0</td>\n",
       "      <td>0</td>\n",
       "      <td>0</td>\n",
       "      <td>0</td>\n",
       "      <td>0</td>\n",
       "      <td>0</td>\n",
       "      <td>0</td>\n",
       "      <td>0</td>\n",
       "    </tr>\n",
       "    <tr>\n",
       "      <th>2</th>\n",
       "      <td>300</td>\n",
       "      <td>0</td>\n",
       "      <td>0</td>\n",
       "      <td>4.203769</td>\n",
       "      <td>0</td>\n",
       "      <td>1</td>\n",
       "      <td>0</td>\n",
       "      <td>0</td>\n",
       "      <td>0</td>\n",
       "      <td>0</td>\n",
       "      <td>...</td>\n",
       "      <td>0</td>\n",
       "      <td>0</td>\n",
       "      <td>0</td>\n",
       "      <td>0</td>\n",
       "      <td>0</td>\n",
       "      <td>0</td>\n",
       "      <td>0</td>\n",
       "      <td>0</td>\n",
       "      <td>0</td>\n",
       "      <td>0</td>\n",
       "    </tr>\n",
       "    <tr>\n",
       "      <th>3</th>\n",
       "      <td>640</td>\n",
       "      <td>0</td>\n",
       "      <td>1</td>\n",
       "      <td>8.096862</td>\n",
       "      <td>1</td>\n",
       "      <td>0</td>\n",
       "      <td>0</td>\n",
       "      <td>0</td>\n",
       "      <td>0</td>\n",
       "      <td>0</td>\n",
       "      <td>...</td>\n",
       "      <td>0</td>\n",
       "      <td>0</td>\n",
       "      <td>0</td>\n",
       "      <td>0</td>\n",
       "      <td>0</td>\n",
       "      <td>0</td>\n",
       "      <td>0</td>\n",
       "      <td>0</td>\n",
       "      <td>0</td>\n",
       "      <td>0</td>\n",
       "    </tr>\n",
       "    <tr>\n",
       "      <th>4</th>\n",
       "      <td>765</td>\n",
       "      <td>1</td>\n",
       "      <td>0</td>\n",
       "      <td>5.821145</td>\n",
       "      <td>0</td>\n",
       "      <td>0</td>\n",
       "      <td>1</td>\n",
       "      <td>0</td>\n",
       "      <td>0</td>\n",
       "      <td>0</td>\n",
       "      <td>...</td>\n",
       "      <td>0</td>\n",
       "      <td>0</td>\n",
       "      <td>0</td>\n",
       "      <td>0</td>\n",
       "      <td>0</td>\n",
       "      <td>0</td>\n",
       "      <td>0</td>\n",
       "      <td>0</td>\n",
       "      <td>0</td>\n",
       "      <td>0</td>\n",
       "    </tr>\n",
       "  </tbody>\n",
       "</table>\n",
       "<p>5 rows × 133 columns</p>\n",
       "</div>"
      ],
      "text/plain": [
       "  Time of Day Arrest Domestic  Distance to City Center  BATTERY  THEFT  \\\n",
       "0         320      0        0                11.057529        1      0   \n",
       "1        1245      1        0                 4.199559        0      1   \n",
       "2         300      0        0                 4.203769        0      1   \n",
       "3         640      0        1                 8.096862        1      0   \n",
       "4         765      1        0                 5.821145        0      0   \n",
       "\n",
       "   OTHER OFFENSE  NARCOTICS  BURGLARY  SEX OFFENSE  ...  \\\n",
       "0              0          0         0            0  ...   \n",
       "1              0          0         0            0  ...   \n",
       "2              0          0         0            0  ...   \n",
       "3              0          0         0            0  ...   \n",
       "4              1          0         0            0  ...   \n",
       "\n",
       "   COIN OPERATED MACHINE  CHURCH / SYNAGOGUE / PLACE OF WORSHIP  \\\n",
       "0                      0                                      0   \n",
       "1                      0                                      0   \n",
       "2                      0                                      0   \n",
       "3                      0                                      0   \n",
       "4                      0                                      0   \n",
       "\n",
       "   AIRPORT PARKING LOT  NURSING / RETIREMENT HOME  HIGHWAY/EXPRESSWAY  \\\n",
       "0                    0                          0                   0   \n",
       "1                    0                          0                   0   \n",
       "2                    0                          0                   0   \n",
       "3                    0                          0                   0   \n",
       "4                    0                          0                   0   \n",
       "\n",
       "   CHA PARKING LOT / GROUNDS  SCHOOL - PUBLIC GROUNDS  \\\n",
       "0                          0                        0   \n",
       "1                          0                        0   \n",
       "2                          0                        0   \n",
       "3                          0                        0   \n",
       "4                          0                        0   \n",
       "\n",
       "   JAIL / LOCK-UP FACILITY  AIRPORT EXTERIOR - NON-SECURE AREA  POOL ROOM  \n",
       "0                        0                                   0          0  \n",
       "1                        0                                   0          0  \n",
       "2                        0                                   0          0  \n",
       "3                        0                                   0          0  \n",
       "4                        0                                   0          0  \n",
       "\n",
       "[5 rows x 133 columns]"
      ]
     },
     "execution_count": 26,
     "metadata": {},
     "output_type": "execute_result"
    }
   ],
   "source": [
    "drop_columns = ['Primary Type', 'Location Description']\n",
    "df = df.drop(drop_columns, axis=1)\n",
    "\n",
    "df.head()"
   ]
  },
  {
   "cell_type": "code",
   "execution_count": 27,
   "id": "0306bd4b",
   "metadata": {},
   "outputs": [],
   "source": [
    "# plt.figure(figsize=(16, 8))\n",
    "# correlations = df.corr(method='pearson')['Distance to City Center']\n",
    "# ax = correlations.plot(kind='bar', title='Correlation of Features with Distance')\n",
    "# ax.set_ylabel('Correlation')"
   ]
  },
  {
   "cell_type": "code",
   "execution_count": 28,
   "id": "185a305f",
   "metadata": {},
   "outputs": [],
   "source": [
    "# plt.figure(figsize=(16, 8))\n",
    "# new_correlations = correlations[abs(correlations) >= 0.02]\n",
    "# new_ax = new_correlations.plot(kind='bar', title='Features with a Significant Correlation')\n",
    "# new_ax.set_ylabel('Correlation')"
   ]
  },
  {
   "cell_type": "code",
   "execution_count": 29,
   "id": "66193bd1",
   "metadata": {},
   "outputs": [],
   "source": [
    "X = df.drop(columns=['Arrest'], axis=1)\n",
    "y = df.Arrest\n",
    "y = y.astype('int')\n",
    "\n",
    "X_train, X_test, y_train, y_test = train_test_split(X, y, test_size=0.2, random_state=314)"
   ]
  },
  {
   "cell_type": "markdown",
   "id": "42ada973",
   "metadata": {},
   "source": [
    "<h4>Logistic Regression</h4>"
   ]
  },
  {
   "cell_type": "code",
   "execution_count": 30,
   "id": "ec66f37d",
   "metadata": {},
   "outputs": [
    {
     "data": {
      "text/plain": [
       "LogisticRegression(C=0.8, max_iter=250, multi_class='ovr', random_state=314)"
      ]
     },
     "execution_count": 30,
     "metadata": {},
     "output_type": "execute_result"
    }
   ],
   "source": [
    "log_regression = LogisticRegression(multi_class='ovr',\n",
    "                                    max_iter=250,\n",
    "                                    C=0.8,\n",
    "                                    random_state=314)\n",
    "\n",
    "log_regression.fit(X_train, y_train)"
   ]
  },
  {
   "cell_type": "code",
   "execution_count": 49,
   "id": "b3863a5d",
   "metadata": {
    "scrolled": false
   },
   "outputs": [
    {
     "name": "stdout",
     "output_type": "stream",
     "text": [
      "Training Accuracy : 0.8671289856844094\n",
      "Testing Accuracy  : 0.8675168494779966\n"
     ]
    }
   ],
   "source": [
    "train_accuracy = log_regression.score(X_train, y_train)\n",
    "test_accuracy = log_regression.score(X_test, y_test)\n",
    "lr_predictions = log_regression.predict(X_test)\n",
    "print(f'Training Accuracy : {train_accuracy}', \n",
    "      f'Testing Accuracy  : {test_accuracy}', sep='\\n')"
   ]
  },
  {
   "cell_type": "code",
   "execution_count": 32,
   "id": "9bee26b9",
   "metadata": {},
   "outputs": [],
   "source": [
    "with open('model-v1.joblib', 'wb') as f:\n",
    "    joblib.dump(log_regression, f)"
   ]
  },
  {
   "cell_type": "code",
   "execution_count": 64,
   "id": "89166607",
   "metadata": {},
   "outputs": [
    {
     "data": {
      "text/plain": [
       "{'coef': [[0.00011849433807648938,\n",
       "   0.07528630530084876,\n",
       "   -0.005767442032771191,\n",
       "   -0.8346496022933084,\n",
       "   -2.2061798370351413,\n",
       "   -0.9616392376828098,\n",
       "   6.676542245559782,\n",
       "   -2.228175693711932,\n",
       "   -0.09690139175158848,\n",
       "   0.9614295534248082,\n",
       "   -0.3910521532319383,\n",
       "   1.81447565952027,\n",
       "   -2.1883086929497373,\n",
       "   -1.649283181888646,\n",
       "   -1.0189734855407675,\n",
       "   -1.9921195543619241,\n",
       "   -0.389940863285901,\n",
       "   -2.0812405709548454,\n",
       "   1.0108578123715337,\n",
       "   0.04721753640710479,\n",
       "   3.073981537619265,\n",
       "   0.09365783690654463,\n",
       "   1.0273780227115443,\n",
       "   -0.19113505015706758,\n",
       "   0.9346862403047683,\n",
       "   1.1065849811604878,\n",
       "   -0.11300605162551323,\n",
       "   -0.08904544202158236,\n",
       "   -0.33716493856888974,\n",
       "   -0.15218995821372963,\n",
       "   -0.008111613334388201,\n",
       "   0.0024186602528453584,\n",
       "   0.02678212728859195,\n",
       "   -0.0011529360843489165,\n",
       "   -0.0021431790000535555,\n",
       "   0.010387335699054924,\n",
       "   -0.001449117004471038,\n",
       "   -0.3481653038405259,\n",
       "   -0.3680917937802111,\n",
       "   -0.11177159594543745,\n",
       "   -0.5534084328525468,\n",
       "   -0.9199406790614024,\n",
       "   -0.016980598562141017,\n",
       "   -0.08835829446441408,\n",
       "   0.17518359535958045,\n",
       "   -0.5825007062713744,\n",
       "   2.4160459270726404,\n",
       "   -0.3734827045900232,\n",
       "   0.17115167023299005,\n",
       "   -0.9013946365948625,\n",
       "   -0.23561989351188029,\n",
       "   0.18999360396654003,\n",
       "   0.28420315476216285,\n",
       "   -0.30460940840654177,\n",
       "   0.8069511231756081,\n",
       "   0.02399157908077814,\n",
       "   -0.06761333089241323,\n",
       "   -0.3500709386083796,\n",
       "   -0.21497206689372908,\n",
       "   -0.25439104368122417,\n",
       "   -0.0005905608217598858,\n",
       "   -0.009427414623518019,\n",
       "   -0.02661176349639703,\n",
       "   0.10181882747428546,\n",
       "   1.0539186522722135,\n",
       "   3.844918173352051e-06,\n",
       "   -0.00047268567550023954,\n",
       "   -0.07386785852109413,\n",
       "   -0.07859022561711397,\n",
       "   0.2147545106398632,\n",
       "   0.007379993570000262,\n",
       "   -0.0734438317533647,\n",
       "   -0.23300756688780455,\n",
       "   0.0451788469164724,\n",
       "   -0.12020821192740098,\n",
       "   2.227297328123626,\n",
       "   -0.1064760509319673,\n",
       "   -0.10666575805368599,\n",
       "   0.004925743029918684,\n",
       "   -0.04351666860978287,\n",
       "   -0.2188739481751097,\n",
       "   0.2598710324514865,\n",
       "   -0.22323905149836262,\n",
       "   1.1460085949001713,\n",
       "   0.339322913944259,\n",
       "   0.017644317832712215,\n",
       "   -0.3324479888575763,\n",
       "   -0.02536448623978857,\n",
       "   -0.23093556078047361,\n",
       "   -0.1750081104920793,\n",
       "   -0.6250614989003365,\n",
       "   -0.11361901452592735,\n",
       "   -0.07310718987420148,\n",
       "   -0.05556813774017735,\n",
       "   -0.013541320704093368,\n",
       "   -0.015399391133569466,\n",
       "   -0.12635089688003875,\n",
       "   -0.12483426758521635,\n",
       "   0.13347997571180475,\n",
       "   -0.006070554299727041,\n",
       "   0.007273239007874081,\n",
       "   0.05143050016575802,\n",
       "   -0.10743001822010129,\n",
       "   -0.17096470506242356,\n",
       "   -0.13616930958422457,\n",
       "   0.0034252599590188495,\n",
       "   -0.005486806844499413,\n",
       "   -0.16136962355588416,\n",
       "   0.006116996848704241,\n",
       "   -0.021458377636366186,\n",
       "   0.03425742792545315,\n",
       "   -0.009766422903422632,\n",
       "   -0.024666073207647264,\n",
       "   -0.07134148747677803,\n",
       "   -0.038334935312284935,\n",
       "   0.007753625405141772,\n",
       "   -0.052694631271648265,\n",
       "   0.004694203860699066,\n",
       "   0.012509232372603324,\n",
       "   -0.05451600542276686,\n",
       "   -0.021474908245752947,\n",
       "   -0.005778743295967738,\n",
       "   0.014908060339373275,\n",
       "   -0.016258418929162525,\n",
       "   -0.01353190092483488,\n",
       "   -0.05784030609972754,\n",
       "   0.03709583953030142,\n",
       "   -0.011118157977659967,\n",
       "   -0.060272668311584544,\n",
       "   0.04891104830184194,\n",
       "   -0.01502550388578058,\n",
       "   -0.015793223587519497]],\n",
       " 'intercept': [-0.1494400524522991]}"
      ]
     },
     "execution_count": 64,
     "metadata": {},
     "output_type": "execute_result"
    }
   ],
   "source": [
    "model_param = {}\n",
    "model_param['coef'] = log_regression.coef_.tolist()\n",
    "model_param['intercept'] = log_regression.intercept_.tolist()\n",
    "model_param"
   ]
  },
  {
   "cell_type": "code",
   "execution_count": 65,
   "id": "cc837d14",
   "metadata": {},
   "outputs": [],
   "source": [
    "json_txt = json.dumps(model_param, indent=4)\n",
    "with open('regressor_param.txt', 'w') as file:\n",
    "    file.write(json_txt)"
   ]
  },
  {
   "cell_type": "markdown",
   "id": "0d799719",
   "metadata": {},
   "source": [
    "<h4>Decision Tree</h4>"
   ]
  },
  {
   "cell_type": "markdown",
   "id": "8de70e70",
   "metadata": {},
   "source": [
    "Tree with one-hot encoded variables:"
   ]
  },
  {
   "cell_type": "code",
   "execution_count": 33,
   "id": "efc1d051",
   "metadata": {},
   "outputs": [],
   "source": [
    "decision_tree = tree.DecisionTreeClassifier(criterion='entropy', max_depth=17, min_samples_leaf=8, min_samples_split=6)\n",
    "decision_tree = decision_tree.fit(X_train, y_train)"
   ]
  },
  {
   "cell_type": "code",
   "execution_count": 47,
   "id": "832d77e6",
   "metadata": {},
   "outputs": [
    {
     "data": {
      "text/plain": [
       "0.8757763975155279"
      ]
     },
     "execution_count": 47,
     "metadata": {},
     "output_type": "execute_result"
    }
   ],
   "source": [
    "tree_predictions = decision_tree.predict(X_test)\n",
    "accuracy_score(tree_predictions, y_test)"
   ]
  },
  {
   "cell_type": "code",
   "execution_count": null,
   "id": "00c9c8ef",
   "metadata": {
    "scrolled": true
   },
   "outputs": [],
   "source": [
    "tree.plot_tree(decision_tree)"
   ]
  },
  {
   "cell_type": "code",
   "execution_count": null,
   "id": "710681b3",
   "metadata": {},
   "outputs": [],
   "source": [
    "graph = Source(tree.export_graphviz(decision_tree,\n",
    "                                    out_file=None,\n",
    "                                    feature_names=[feature for feature in df.columns if feature != 'Arrest'],\n",
    "                                    class_names=['Not Arrested', 'Arrested', 'Secret Third Thing']))\n",
    "graph.format = 'png'\n",
    "graph.render('decision_tree', view=True)"
   ]
  },
  {
   "cell_type": "markdown",
   "id": "4b928242",
   "metadata": {},
   "source": [
    "<h4>Neural Network</h4>"
   ]
  },
  {
   "cell_type": "code",
   "execution_count": 36,
   "id": "02cf3d89",
   "metadata": {
    "scrolled": false
   },
   "outputs": [
    {
     "data": {
      "text/plain": [
       "MLPClassifier(activation='tanh', hidden_layer_sizes=264,\n",
       "              learning_rate_init=0.0001, max_iter=50, random_state=314)"
      ]
     },
     "execution_count": 36,
     "metadata": {},
     "output_type": "execute_result"
    }
   ],
   "source": [
    "nn_iterations = 50\n",
    "nn = MLPClassifier(activation='tanh',\n",
    "                   hidden_layer_sizes=(X.shape[1] * 2),\n",
    "                   max_iter=nn_iterations,\n",
    "                   learning_rate_init=1e-4,\n",
    "                   # verbose=True,\n",
    "                   random_state=314)\n",
    "\n",
    "nn.fit(X_train, y_train)"
   ]
  },
  {
   "cell_type": "code",
   "execution_count": 37,
   "id": "40f7bc42",
   "metadata": {},
   "outputs": [
    {
     "data": {
      "text/plain": [
       "0.874468085106383"
      ]
     },
     "execution_count": 37,
     "metadata": {},
     "output_type": "execute_result"
    }
   ],
   "source": [
    "nn_predictions = nn.predict(X_test)\n",
    "accuracy_score(nn_predictions, y_test)"
   ]
  },
  {
   "cell_type": "code",
   "execution_count": null,
   "id": "5924dd46",
   "metadata": {},
   "outputs": [],
   "source": [
    "nn2 = MLPClassifier(activation='tanh',\n",
    "                   hidden_layer_sizes=(X.shape[1] // 2),\n",
    "                   max_iter=nn_iterations,\n",
    "                   learning_rate_init=1e-4,\n",
    "                   # verbose=True,\n",
    "                   random_state=314)\n",
    "\n",
    "nn2.fit(X_train, y_train)\n",
    "\n",
    "nn3 = MLPClassifier(activation='tanh',\n",
    "                   hidden_layer_sizes=(X.shape[1] // 4 * 3),\n",
    "                   max_iter=nn_iterations,\n",
    "                   learning_rate_init=1e-4,\n",
    "                   # verbose=True,\n",
    "                   random_state=314)\n",
    "\n",
    "nn3.fit(X_train, y_train)"
   ]
  },
  {
   "cell_type": "code",
   "execution_count": null,
   "id": "36d97011",
   "metadata": {},
   "outputs": [],
   "source": [
    "nn2_predictions = nn2.predict(X_test)\n",
    "print(accuracy_score(nn2_predictions, y_test))\n",
    "\n",
    "nn3_predictions = nn3.predict(X_test)\n",
    "accuracy_score(nn3_predictions, y_test)"
   ]
  },
  {
   "cell_type": "code",
   "execution_count": null,
   "id": "7e5167e2",
   "metadata": {},
   "outputs": [],
   "source": [
    "plt.subplots(figsize=(16, 8))\n",
    "x_vals = [i for i in range(1, nn_iterations + 1)]\n",
    "\n",
    "plt.plot(x_vals, nn.loss_curve_, color=\"cyan\",  label=\"2x input layer\")\n",
    "plt.plot(x_vals, nn2.loss_curve_, color=\"pink\",  label=\"1/2 input layer\")\n",
    "plt.plot(x_vals, nn3.loss_curve_, color=\"purple\",  label=\"3/4 input layer\")\n",
    "\n",
    "plt.title(\"Neural Network Training Loss by Hidden Layer Size\")\n",
    "plt.xlabel(\"Iteration\")\n",
    "plt.ylabel(\"Loss\")\n",
    "plt.margins(0, 0.3)\n",
    "plt.legend()\n",
    "plt.show()"
   ]
  },
  {
   "cell_type": "code",
   "execution_count": null,
   "id": "fbaa40b2",
   "metadata": {},
   "outputs": [],
   "source": [
    "nn4 = MLPClassifier(activation='relu',\n",
    "                   hidden_layer_sizes=(X.shape[1] * 2),\n",
    "                   max_iter=nn_iterations,\n",
    "                   learning_rate_init=1e-4,\n",
    "                   # verbose=True,\n",
    "                   random_state=314)\n",
    "\n",
    "nn4.fit(X_train, y_train)\n",
    "\n",
    "nn5 = MLPClassifier(activation='identity',\n",
    "                   hidden_layer_sizes=(X.shape[1] * 2),\n",
    "                   max_iter=nn_iterations,\n",
    "                   learning_rate_init=1e-4,\n",
    "                   # verbose=True,\n",
    "                   random_state=314)\n",
    "\n",
    "nn5.fit(X_train, y_train)\n",
    "\n",
    "nn6 = MLPClassifier(activation='logistic',\n",
    "                   hidden_layer_sizes=(X.shape[1] * 2),\n",
    "                   max_iter=nn_iterations,\n",
    "                   learning_rate_init=1e-4,\n",
    "                   # verbose=True,\n",
    "                   random_state=314)\n",
    "\n",
    "nn6.fit(X_train, y_train)"
   ]
  },
  {
   "cell_type": "code",
   "execution_count": null,
   "id": "bf3c224f",
   "metadata": {},
   "outputs": [],
   "source": [
    "plt.subplots(figsize=(16, 8))\n",
    "\n",
    "plt.plot(x_vals, nn.loss_curve_, color=\"blue\",  label=\"tanh; f(x) = tanh(x)\")\n",
    "plt.plot([i for i in range(1, nn4.n_iter_ + 1)], nn4.loss_curve_, color=\"red\",  label=\"relu; fx = max(0, x)\")\n",
    "plt.plot([i for i in range(1, nn5.n_iter_ + 1)], nn5.loss_curve_, color=\"orange\",  label=\"identity; f(x) = x\")\n",
    "plt.plot([i for i in range(1, nn6.n_iter_ + 1)], nn6.loss_curve_, color=\"green\",  label=\"logistic sigmoid; f(x) = 1 / (1 + e^(-x))\")\n",
    "\n",
    "plt.title(\"Neural Network Training Loss by Activation Function\")\n",
    "plt.xlabel(\"Iteration\")\n",
    "plt.ylabel(\"Loss\")\n",
    "plt.margins(0, 0.3)\n",
    "plt.legend()\n",
    "plt.show()"
   ]
  },
  {
   "cell_type": "markdown",
   "id": "7743f2f7",
   "metadata": {},
   "source": [
    "<h3>Model Validation and Evaluation</h3>\n",
    "\n",
    "<b>ALL (MOST) PLOTS AND SUCH SHOULD GO HERE</b>"
   ]
  },
  {
   "cell_type": "code",
   "execution_count": null,
   "id": "43a9f6b5",
   "metadata": {},
   "outputs": [],
   "source": [
    "lr_score = round(test_accuracy, 5)\n",
    "lr_matrix = confusion_matrix(lr_predictions, y_test)\n",
    "plt.title(f'LR Confusion Matrix, Accuracy={lr_score}')\n",
    "sns.heatmap(lr_matrix, annot=True, fmt=\".0f\")\n",
    "plt.xlabel('Predicted Values')\n",
    "plt.ylabel('Actual Values')\n",
    "\n",
    "plt.show()\n",
    "\n",
    "lr_tpr = lr_matrix[1][1] / (lr_matrix[1][1] + lr_matrix[1][0])\n",
    "lr_fpr = lr_matrix[0][1] / (lr_matrix[0][0] + lr_matrix[0][1])\n",
    "lr_tnr = 1 - lr_fpr\n",
    "lr_fnr = 1 - lr_tpr\n",
    "\n",
    "print(f'True Positive Rate  : {lr_tpr}',\n",
    "      f'False Positive Rate : {lr_fpr}',\n",
    "      f'True Negative Rate  : {lr_tnr}',\n",
    "      f'False Negative Rate : {lr_fnr}',\n",
    "      sep='\\n')"
   ]
  },
  {
   "cell_type": "code",
   "execution_count": null,
   "id": "2e326a10",
   "metadata": {
    "scrolled": false
   },
   "outputs": [],
   "source": [
    "dt_score = round(accuracy_score(tree_predictions, y_test), 5)\n",
    "dt_matrix = confusion_matrix(tree_predictions, y_test)\n",
    "plt.title(f'Decision Tree Confusion Matrix, Accuracy={dt_score}')\n",
    "sns.heatmap(dt_matrix, annot=True, fmt=\".0f\")\n",
    "plt.xlabel('Predicted Values')\n",
    "plt.ylabel('Actual Values')\n",
    "\n",
    "plt.show()\n",
    "\n",
    "dt_tpr = dt_matrix[1][1] / (dt_matrix[1][1] + dt_matrix[1][0])\n",
    "dt_fpr = dt_matrix[0][1] / (dt_matrix[0][0] + dt_matrix[0][1])\n",
    "dt_tnr = 1 - dt_fpr\n",
    "dt_fnr = 1 - dt_tpr\n",
    "\n",
    "print(f'True Positive Rate  : {dt_tpr}',\n",
    "      f'False Positive Rate : {dt_fpr}',\n",
    "      f'True Negative Rate  : {dt_tnr}',\n",
    "      f'False Negative Rate : {dt_fnr}',\n",
    "      sep='\\n')"
   ]
  },
  {
   "cell_type": "code",
   "execution_count": null,
   "id": "b7166bc4",
   "metadata": {},
   "outputs": [],
   "source": [
    "nn_score = round(accuracy_score(nn_predictions, y_test), 5)\n",
    "nn_matrix = confusion_matrix(nn_predictions, y_test)\n",
    "plt.title(f'Neural Network Confusion Matrix, Accuracy={nn_score}')\n",
    "sns.heatmap(nn_matrix, annot=True, fmt=\".0f\")\n",
    "plt.xlabel('Predicted Values')\n",
    "plt.ylabel('Actual Values')\n",
    "\n",
    "plt.show()\n",
    "\n",
    "nn_tpr = nn_matrix[1][1] / (nn_matrix[1][1] + nn_matrix[1][0])\n",
    "nn_fpr = nn_matrix[0][1] / (nn_matrix[0][0] + nn_matrix[0][1])\n",
    "nn_tnr = 1 - nn_fpr\n",
    "nn_fnr = 1 - nn_tpr\n",
    "\n",
    "print(f'True Positive Rate  : {nn_tpr}',\n",
    "      f'False Positive Rate : {nn_fpr}',\n",
    "      f'True Negative Rate  : {nn_tnr}',\n",
    "      f'False Negative Rate : {nn_fnr}',\n",
    "      sep='\\n')"
   ]
  },
  {
   "cell_type": "code",
   "execution_count": null,
   "id": "cc779a25",
   "metadata": {},
   "outputs": [],
   "source": [
    "lr_train_sizes, lr_train_scores, lr_test_scores = learning_curve(LogisticRegression(multi_class='ovr',\n",
    "                                                                                    max_iter=100,\n",
    "                                                                                    C=0.8,\n",
    "                                                                                    random_state=314),\n",
    "                                                                X,\n",
    "                                                                y,\n",
    "                                                                scoring='accuracy',\n",
    "                                                                train_sizes=np.linspace(0.01, 0.5, 20))"
   ]
  },
  {
   "cell_type": "code",
   "execution_count": null,
   "id": "0fdb229d",
   "metadata": {},
   "outputs": [],
   "source": [
    "dt_train_sizes, dt_train_scores, dt_test_scores = learning_curve(tree.DecisionTreeClassifier(criterion='entropy',\n",
    "                                                                                        max_depth=3,\n",
    "                                                                                        min_samples_leaf=8,\n",
    "                                                                                        min_samples_split=6),\n",
    "                                                                X,\n",
    "                                                                y,\n",
    "                                                                scoring='accuracy',\n",
    "                                                                train_sizes=np.linspace(0.01, 0.5, 20))"
   ]
  },
  {
   "cell_type": "code",
   "execution_count": null,
   "id": "f2ca651e",
   "metadata": {},
   "outputs": [],
   "source": [
    "nn_train_sizes, nn_train_scores, nn_test_scores = learning_curve(MLPClassifier(activation='tanh',\n",
    "                                                                               hidden_layer_sizes=(X.shape[1] * 2),\n",
    "                                                                               max_iter=20,\n",
    "                                                                               learning_rate_init=1e-4,\n",
    "                                                                               random_state=314),\n",
    "                                                                X,\n",
    "                                                                y,\n",
    "                                                                scoring='accuracy',\n",
    "                                                                train_sizes=np.linspace(0.01, 0.5, 10))"
   ]
  },
  {
   "cell_type": "markdown",
   "id": "9e010388",
   "metadata": {},
   "source": [
    "For each model, plot the mean accuracy when using 5-fold cross-validation:"
   ]
  },
  {
   "cell_type": "code",
   "execution_count": null,
   "id": "8cb5a662",
   "metadata": {},
   "outputs": [],
   "source": [
    "lr_train_mean = np.mean(lr_train_scores, axis=1)\n",
    "lr_train_std = np.std(lr_train_scores, axis=1)\n",
    "lr_test_mean = np.mean(lr_test_scores, axis=1)\n",
    "lr_test_std = np.std(lr_test_scores, axis=1)"
   ]
  },
  {
   "cell_type": "code",
   "execution_count": null,
   "id": "eb345543",
   "metadata": {},
   "outputs": [],
   "source": [
    "dt_train_mean = np.mean(dt_train_scores, axis=1)\n",
    "dt_train_std = np.std(dt_train_scores, axis=1)\n",
    "dt_test_mean = np.mean(dt_test_scores, axis=1)\n",
    "dt_test_std = np.std(dt_test_scores, axis=1)"
   ]
  },
  {
   "cell_type": "code",
   "execution_count": null,
   "id": "87c5282c",
   "metadata": {},
   "outputs": [],
   "source": [
    "nn_train_mean = np.mean(nn_train_scores, axis=1)\n",
    "nn_train_std = np.std(nn_train_scores, axis=1)\n",
    "nn_test_mean = np.mean(nn_test_scores, axis=1)\n",
    "nn_test_std = np.std(nn_test_scores, axis=1)"
   ]
  },
  {
   "cell_type": "code",
   "execution_count": null,
   "id": "2344370c",
   "metadata": {
    "scrolled": false
   },
   "outputs": [],
   "source": [
    "# Credit : https://www.projectpro.io/recipes/plot-learning-curve-in-python\n",
    "\n",
    "plt.subplots(figsize=(12, 6))\n",
    "\n",
    "plt.plot(lr_train_sizes, lr_train_mean, color=\"blue\",  label=\"LR Training Scores\")\n",
    "plt.plot(lr_train_sizes, lr_test_mean, color=\"cyan\", label=\"LR Cross-Validation Scores\")\n",
    "\n",
    "plt.plot(dt_train_sizes, dt_train_mean, color=\"red\",  label=\"DT Training Scores\")\n",
    "plt.plot(dt_train_sizes, dt_test_mean, color=\"pink\", label=\"DT Cross-Validation Scores\")\n",
    "\n",
    "plt.plot(nn_train_sizes, nn_train_mean, color=\"purple\",  label=\"NN Training Scores\")\n",
    "plt.plot(nn_train_sizes, nn_test_mean, color=\"violet\", label=\"NN Cross-Validation Scores\")\n",
    "\n",
    "# plt.fill_between(lr_train_sizes, lr_train_mean + lr_train_std, lr_train_mean - lr_train_std, color=\"lightgray\")\n",
    "# plt.fill_between(lr_train_sizes, lr_test_mean + lr_test_std, lr_test_mean - lr_test_std, color=\"lightgray\")\n",
    "\n",
    "# plt.fill_between(dt_train_sizes, dt_train_mean + dt_train_std, dt_train_mean - dt_train_std, color=\"gray\")\n",
    "# plt.fill_between(dt_train_sizes, dt_test_mean + dt_test_std, dt_test_mean - dt_test_std, color=\"gray\")\n",
    "\n",
    "# plt.fill_between(nn_train_sizes, nn_train_mean + nn_train_std, nn_train_mean - nn_train_std, color=\"darkgray\")\n",
    "# plt.fill_between(nn_train_sizes, nn_test_mean + nn_test_std, nn_test_mean - nn_test_std, color=\"darkgray\")\n",
    "\n",
    "plt.title(\"Learning Curve\")\n",
    "plt.xlabel(\"Training Set Size\")\n",
    "plt.ylabel(\"Accuracy\")\n",
    "plt.margins(0, 1.5)\n",
    "plt.legend()\n",
    "plt.show()"
   ]
  },
  {
   "cell_type": "markdown",
   "id": "4d9989e5",
   "metadata": {},
   "source": [
    "<h3>Results</h3>"
   ]
  },
  {
   "cell_type": "code",
   "execution_count": null,
   "id": "41911f4b",
   "metadata": {},
   "outputs": [],
   "source": [
    "coefs = [(i, coef) for i, coef in enumerate(log_regression.coef_[0]) if abs(coef) > 0.75]\n",
    "coefs.sort(key=lambda x:abs(x[1]), reverse=True)\n",
    "\n",
    "for i, coef in coefs:\n",
    "    print(f'{coef:.3f},\\t', X.columns[i])"
   ]
  }
 ],
 "metadata": {
  "kernelspec": {
   "display_name": "Python 3 (ipykernel)",
   "language": "python",
   "name": "python3"
  },
  "language_info": {
   "codemirror_mode": {
    "name": "ipython",
    "version": 3
   },
   "file_extension": ".py",
   "mimetype": "text/x-python",
   "name": "python",
   "nbconvert_exporter": "python",
   "pygments_lexer": "ipython3",
   "version": "3.9.12"
  }
 },
 "nbformat": 4,
 "nbformat_minor": 5
}
